{
 "cells": [
  {
   "cell_type": "markdown",
   "id": "fb2e6205-9097-48fc-8b23-17485858ec43",
   "metadata": {},
   "source": [
    "\n",
    "\n",
    "twitch became big during the pandemic\n",
    "  * data not from pandemic per say (\"lastUpdateTime\":\"2020-08-24T03:21:51.637Z\"), it covers a portion of the prev year (assuming they scraped the data and then posted it soon after)\n",
    "  * what makes a twitch streamer popular/perform well?\n",
    "\n",
    "** regression, scatterplots of each, etc.\n",
    "\n",
    "\n",
    "Dataset: https://www.kaggle.com/datasets/aayushmishra1512/twitchdata?datasetId=837885"
   ]
  },
  {
   "cell_type": "code",
   "execution_count": 1,
   "id": "c0a856dc-7ee1-4b37-8803-ad4a036a1775",
   "metadata": {},
   "outputs": [
    {
     "name": "stdout",
     "output_type": "stream",
     "text": [
      "              Channel  Watch time(Minutes)  Stream time(minutes)  \\\n",
      "0               xQcOW           6196161750                215250   \n",
      "1            summit1g           6091677300                211845   \n",
      "2              Gaules           5644590915                515280   \n",
      "3            ESL_CSGO           3970318140                517740   \n",
      "4                Tfue           3671000070                123660   \n",
      "..                ...                  ...                   ...   \n",
      "995         LITkillah            122524635                 13560   \n",
      "996  빅헤드 (bighead033)            122523705                153000   \n",
      "997    마스카 (newmasca)            122452320                217410   \n",
      "998     AndyMilonakis            122311065                104745   \n",
      "999              Remx            122192850                 99180   \n",
      "\n",
      "     Peak viewers  Average viewers  Followers  Followers gained  Views gained  \\\n",
      "0          222720            27716    3246298           1734810      93036735   \n",
      "1          310998            25610    5310163           1370184      89705964   \n",
      "2          387315            10976    1767635           1023779     102611607   \n",
      "3          300575             7714    3944850            703986     106546942   \n",
      "4          285644            29602    8938903           2068424      78998587   \n",
      "..            ...              ...        ...               ...           ...   \n",
      "995         21359             9104     601927            562691       2162107   \n",
      "996          3940              793     213212             52289       4399897   \n",
      "997          6431              567     109068             -4942       3417970   \n",
      "998         10543             1153     547446            109111       3926918   \n",
      "999         13788             1205     178553             59432       2049420   \n",
      "\n",
      "     Partnered  Mature    Language  \n",
      "0         True   False     English  \n",
      "1         True   False     English  \n",
      "2         True    True  Portuguese  \n",
      "3         True   False     English  \n",
      "4         True   False     English  \n",
      "..         ...     ...         ...  \n",
      "995       True   False     Spanish  \n",
      "996       True   False      Korean  \n",
      "997       True   False      Korean  \n",
      "998       True   False     English  \n",
      "999       True   False      French  \n",
      "\n",
      "[1000 rows x 11 columns]\n"
     ]
    }
   ],
   "source": [
    "import pandas as pd\n",
    "\n",
    "df = pd.read_csv('twitchdata.csv')\n",
    "print(df)"
   ]
  }
 ],
 "metadata": {
  "kernelspec": {
   "display_name": "Python 3 (ipykernel)",
   "language": "python",
   "name": "python3"
  },
  "language_info": {
   "codemirror_mode": {
    "name": "ipython",
    "version": 3
   },
   "file_extension": ".py",
   "mimetype": "text/x-python",
   "name": "python",
   "nbconvert_exporter": "python",
   "pygments_lexer": "ipython3",
   "version": "3.9.7"
  }
 },
 "nbformat": 4,
 "nbformat_minor": 5
}
